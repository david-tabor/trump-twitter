{
 "cells": [
  {
   "cell_type": "code",
   "execution_count": 86,
   "metadata": {},
   "outputs": [],
   "source": [
    "# Imports\n",
    "import pandas as pd\n",
    "from textblob import TextBlob\n",
    "import warnings\n",
    "warnings.simplefilter('ignore')\n",
    "from nltk.corpus import stopwords"
   ]
  },
  {
   "cell_type": "code",
   "execution_count": 15,
   "metadata": {},
   "outputs": [
    {
     "name": "stdout",
     "output_type": "stream",
     "text": [
      "Loaded 7540 rows.\n"
     ]
    },
    {
     "data": {
      "text/html": [
       "<div>\n",
       "<style scoped>\n",
       "    .dataframe tbody tr th:only-of-type {\n",
       "        vertical-align: middle;\n",
       "    }\n",
       "\n",
       "    .dataframe tbody tr th {\n",
       "        vertical-align: top;\n",
       "    }\n",
       "\n",
       "    .dataframe thead th {\n",
       "        text-align: right;\n",
       "    }\n",
       "</style>\n",
       "<table border=\"1\" class=\"dataframe\">\n",
       "  <thead>\n",
       "    <tr style=\"text-align: right;\">\n",
       "      <th></th>\n",
       "      <th>source</th>\n",
       "      <th>text</th>\n",
       "      <th>created_at</th>\n",
       "      <th>retweet_count</th>\n",
       "      <th>favorite_count</th>\n",
       "      <th>is_retweet</th>\n",
       "      <th>id_str</th>\n",
       "    </tr>\n",
       "  </thead>\n",
       "  <tbody>\n",
       "    <tr>\n",
       "      <th>0</th>\n",
       "      <td>Twitter for iPhone</td>\n",
       "      <td>Today it was my great honor to welcome and hos...</td>\n",
       "      <td>04-30-2019 23:21:16</td>\n",
       "      <td>11082</td>\n",
       "      <td>54009</td>\n",
       "      <td>False</td>\n",
       "      <td>1123366738463162368</td>\n",
       "    </tr>\n",
       "    <tr>\n",
       "      <th>1</th>\n",
       "      <td>Twitter for iPhone</td>\n",
       "      <td>If Cuban Troops and Militia do not immediately...</td>\n",
       "      <td>04-30-2019 21:09:13</td>\n",
       "      <td>40386</td>\n",
       "      <td>128141</td>\n",
       "      <td>False</td>\n",
       "      <td>1123333506346749952</td>\n",
       "    </tr>\n",
       "    <tr>\n",
       "      <th>2</th>\n",
       "      <td>Twitter for iPhone</td>\n",
       "      <td>....embargo together with highest-level sancti...</td>\n",
       "      <td>04-30-2019 21:09:13</td>\n",
       "      <td>31221</td>\n",
       "      <td>111238</td>\n",
       "      <td>False</td>\n",
       "      <td>1123333508078997505</td>\n",
       "    </tr>\n",
       "    <tr>\n",
       "      <th>3</th>\n",
       "      <td>Twitter for iPhone</td>\n",
       "      <td>CONGRATULATIONS to the 2018 @NASCAR Cup Series...</td>\n",
       "      <td>04-30-2019 20:20:10</td>\n",
       "      <td>7141</td>\n",
       "      <td>35490</td>\n",
       "      <td>False</td>\n",
       "      <td>1123321163189510155</td>\n",
       "    </tr>\n",
       "    <tr>\n",
       "      <th>4</th>\n",
       "      <td>Twitter for iPhone</td>\n",
       "      <td>I am monitoring the situation in Venezuela ver...</td>\n",
       "      <td>04-30-2019 18:23:28</td>\n",
       "      <td>54436</td>\n",
       "      <td>192388</td>\n",
       "      <td>False</td>\n",
       "      <td>1123291797554454529</td>\n",
       "    </tr>\n",
       "  </tbody>\n",
       "</table>\n",
       "</div>"
      ],
      "text/plain": [
       "               source                                               text  \\\n",
       "0  Twitter for iPhone  Today it was my great honor to welcome and hos...   \n",
       "1  Twitter for iPhone  If Cuban Troops and Militia do not immediately...   \n",
       "2  Twitter for iPhone  ....embargo together with highest-level sancti...   \n",
       "3  Twitter for iPhone  CONGRATULATIONS to the 2018 @NASCAR Cup Series...   \n",
       "4  Twitter for iPhone  I am monitoring the situation in Venezuela ver...   \n",
       "\n",
       "            created_at  retweet_count  favorite_count is_retweet  \\\n",
       "0  04-30-2019 23:21:16          11082           54009      False   \n",
       "1  04-30-2019 21:09:13          40386          128141      False   \n",
       "2  04-30-2019 21:09:13          31221          111238      False   \n",
       "3  04-30-2019 20:20:10           7141           35490      False   \n",
       "4  04-30-2019 18:23:28          54436          192388      False   \n",
       "\n",
       "                id_str  \n",
       "0  1123366738463162368  \n",
       "1  1123333506346749952  \n",
       "2  1123333508078997505  \n",
       "3  1123321163189510155  \n",
       "4  1123291797554454529  "
      ]
     },
     "execution_count": 15,
     "metadata": {},
     "output_type": "execute_result"
    }
   ],
   "source": [
    "# Load data\n",
    "\n",
    "file_path = './Resources/tweets-20170101-20190501.csv'\n",
    "data_raw = pd.read_csv(file_path)\n",
    "\n",
    "print(f'Loaded {len(data_raw)} rows.')\n",
    "data_raw.head()"
   ]
  },
  {
   "cell_type": "code",
   "execution_count": 84,
   "metadata": {},
   "outputs": [],
   "source": [
    "# Cleaning\n",
    "\n",
    "# Exclude retweets\n",
    "data = data_raw.loc[data_raw['is_retweet'] == False]\n",
    "\n",
    "# Remove hyperlinks\n",
    "def remove_http (my_str):\n",
    "    return \" \".join(filter(lambda x:x[0:4]!='http', my_str.split()))\n",
    "\n",
    "data['text'] = data['text'].apply(remove_http)\n",
    "\n",
    "# Remove stopwords\n",
    "def remove_stops(my_str):\n",
    "    stop = stopwords.words('english')\n",
    "    return \" \".join(x for x in my_str.split() if x not in stop)\n",
    "\n",
    "data['text'] = data['text'].apply(remove_stops)\n",
    "\n",
    "# Remove special characters\n",
    "def remove_specials(my_str):\n",
    "    specials = ['&amp;', '-']\n",
    "    return \" \".join(x for x in my_str.split() if x not in specials)\n",
    "\n",
    "data['text'] = data['text'].apply(remove_specials)\n",
    "\n",
    "# Make all text lower case\n",
    "data['text'] = data['text'].apply(lambda x: x.lower())\n",
    "\n"
   ]
  },
  {
   "cell_type": "code",
   "execution_count": 87,
   "metadata": {},
   "outputs": [
    {
     "data": {
      "text/plain": [
       "great        1334\n",
       "i            1160\n",
       "people        625\n",
       "the           506\n",
       "we            461\n",
       "fake          446\n",
       "many          428\n",
       "news          425\n",
       "big           421\n",
       "president     396\n",
       "u.s.          396\n",
       "democrats     390\n",
       "get           379\n",
       "border        373\n",
       "country       342\n",
       "would         333\n",
       "much          330\n",
       "trump         329\n",
       "new           318\n",
       "never         310\n",
       "dtype: int64"
      ]
     },
     "execution_count": 87,
     "metadata": {},
     "output_type": "execute_result"
    }
   ],
   "source": [
    "# Get word counts over n tweets.\n",
    "n_tweets = 9999\n",
    "\n",
    "# Form one long string of tweets\n",
    "tweets = ''.join(data['text'].head(n_tweets))\n",
    "\n",
    "# Compute word counts\n",
    "freq = pd.Series(tweets.split()).value_counts()[0:20]\n",
    "freq"
   ]
  },
  {
   "cell_type": "code",
   "execution_count": null,
   "metadata": {},
   "outputs": [],
   "source": []
  }
 ],
 "metadata": {
  "kernelspec": {
   "display_name": "'Python Interactive'",
   "language": "python",
   "name": "c314da7f-566c-4d93-b6b6-bc94d2d9aaa5"
  },
  "language_info": {
   "codemirror_mode": {
    "name": "ipython",
    "version": 3
   },
   "file_extension": ".py",
   "mimetype": "text/x-python",
   "name": "python",
   "nbconvert_exporter": "python",
   "pygments_lexer": "ipython3",
   "version": "3.7.0"
  }
 },
 "nbformat": 4,
 "nbformat_minor": 2
}
